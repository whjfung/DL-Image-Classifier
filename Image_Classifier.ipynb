{
  "nbformat": 4,
  "nbformat_minor": 0,
  "metadata": {
    "colab": {
      "name": "Image Classifier.py",
      "provenance": [],
      "authorship_tag": "ABX9TyNbhZOoRqo6e0FUVb1EtXFR"
    },
    "kernelspec": {
      "name": "python3",
      "display_name": "Python 3"
    },
    "language_info": {
      "name": "python"
    }
  },
  "cells": [
    {
      "cell_type": "code",
      "metadata": {
        "id": "9UqKyktvlu4M"
      },
      "source": [
        "# Description: This programe is inspired by Youtube Channel Computer Science https://www.youtube.com/watch?v=iGWbqhdjf2s with some imprpvements\n",
        "#              A convolutional neural networks (CNN)-based deep learning algorithm which incoporates TensorFlow and Keras to classify images\n",
        "#              Trained with the CIFAR-100 dataset."
      ],
      "execution_count": 1,
      "outputs": []
    },
    {
      "cell_type": "code",
      "metadata": {
        "id": "9vhWfL3ktAsu"
      },
      "source": [
        "import tensorflow as tf\n",
        "from tensorflow import keras\n",
        "from keras.models import Sequential\n",
        "from keras.layers import Dense, Flatten, Conv2D, MaxPooling2D, Dropout\n",
        "from tensorflow.keras import layers\n",
        "from keras.utils import to_categorical\n",
        "import numpy as np\n",
        "import matplotlib.pyplot as plt\n",
        "plt.style.use('fivethirtyeight')"
      ],
      "execution_count": 2,
      "outputs": []
    },
    {
      "cell_type": "code",
      "metadata": {
        "id": "ieB-bmLvuJcK"
      },
      "source": [
        "# Load Data\n",
        "from keras.datasets import cifar100\n",
        "(x_train, y_train), (x_test, y_test) = cifar100.load_data(label_mode='fine')"
      ],
      "execution_count": 3,
      "outputs": []
    },
    {
      "cell_type": "code",
      "metadata": {
        "colab": {
          "base_uri": "https://localhost:8080/"
        },
        "id": "SBi2YkaN8Noz",
        "outputId": "b6e08fed-0845-4fc6-e8d9-1c465dd9f7a5"
      },
      "source": [
        "# Check data types of variables\n",
        "print(type(x_train))\n",
        "print(type(y_train))\n",
        "print(type(x_test))\n",
        "print(type(y_test))"
      ],
      "execution_count": 4,
      "outputs": [
        {
          "output_type": "stream",
          "text": [
            "<class 'numpy.ndarray'>\n",
            "<class 'numpy.ndarray'>\n",
            "<class 'numpy.ndarray'>\n",
            "<class 'numpy.ndarray'>\n"
          ],
          "name": "stdout"
        }
      ]
    },
    {
      "cell_type": "code",
      "metadata": {
        "colab": {
          "base_uri": "https://localhost:8080/"
        },
        "id": "L4n4RFNI8elH",
        "outputId": "ad2f3822-9817-44b6-df5b-e150ac71010f"
      },
      "source": [
        "# Get shape of arrays\n",
        "print('x_train shape:', x_train.shape)\n",
        "print('y_train shape:', y_train.shape)\n",
        "print('x_test shape:', x_test.shape)\n",
        "print('y_test shape:', y_test.shape)"
      ],
      "execution_count": 5,
      "outputs": [
        {
          "output_type": "stream",
          "text": [
            "x_train shape: (50000, 32, 32, 3)\n",
            "y_train shape: (50000, 1)\n",
            "x_test shape: (10000, 32, 32, 3)\n",
            "y_test shape: (10000, 1)\n"
          ],
          "name": "stdout"
        }
      ]
    },
    {
      "cell_type": "code",
      "metadata": {
        "colab": {
          "base_uri": "https://localhost:8080/"
        },
        "id": "hflSf-yh8tn1",
        "outputId": "d80b64cf-7cdc-4856-d67f-4687e279214b"
      },
      "source": [
        "# Look at the first image as an array\n",
        "index = 0\n",
        "x_train[index] "
      ],
      "execution_count": 6,
      "outputs": [
        {
          "output_type": "execute_result",
          "data": {
            "text/plain": [
              "array([[[255, 255, 255],\n",
              "        [255, 255, 255],\n",
              "        [255, 255, 255],\n",
              "        ...,\n",
              "        [195, 205, 193],\n",
              "        [212, 224, 204],\n",
              "        [182, 194, 167]],\n",
              "\n",
              "       [[255, 255, 255],\n",
              "        [254, 254, 254],\n",
              "        [254, 254, 254],\n",
              "        ...,\n",
              "        [170, 176, 150],\n",
              "        [161, 168, 130],\n",
              "        [146, 154, 113]],\n",
              "\n",
              "       [[255, 255, 255],\n",
              "        [254, 254, 254],\n",
              "        [255, 255, 255],\n",
              "        ...,\n",
              "        [189, 199, 169],\n",
              "        [166, 178, 130],\n",
              "        [121, 133,  87]],\n",
              "\n",
              "       ...,\n",
              "\n",
              "       [[148, 185,  79],\n",
              "        [142, 182,  57],\n",
              "        [140, 179,  60],\n",
              "        ...,\n",
              "        [ 30,  17,   1],\n",
              "        [ 65,  62,  15],\n",
              "        [ 76,  77,  20]],\n",
              "\n",
              "       [[122, 157,  66],\n",
              "        [120, 155,  58],\n",
              "        [126, 160,  71],\n",
              "        ...,\n",
              "        [ 22,  16,   3],\n",
              "        [ 97, 112,  56],\n",
              "        [141, 161,  87]],\n",
              "\n",
              "       [[ 87, 122,  41],\n",
              "        [ 88, 122,  39],\n",
              "        [101, 134,  56],\n",
              "        ...,\n",
              "        [ 34,  36,  10],\n",
              "        [105, 133,  59],\n",
              "        [138, 173,  79]]], dtype=uint8)"
            ]
          },
          "metadata": {
            "tags": []
          },
          "execution_count": 6
        }
      ]
    },
    {
      "cell_type": "code",
      "metadata": {
        "colab": {
          "base_uri": "https://localhost:8080/",
          "height": 284
        },
        "id": "qD3p79ct9OYN",
        "outputId": "d96f30c7-4fd5-4f68-af75-6f18e3a9d492"
      },
      "source": [
        "# Show image as img\n",
        "img = plt.imshow(x_train[index])"
      ],
      "execution_count": 7,
      "outputs": [
        {
          "output_type": "display_data",
          "data": {
            "image/png": "[encoded data removed]",
            "text/plain": [
              "<Figure size 432x288 with 1 Axes>"
            ]
          },
          "metadata": {
            "tags": []
          }
        }
      ]
    },
    {
      "cell_type": "code",
      "metadata": {
        "colab": {
          "base_uri": "https://localhost:8080/"
        },
        "id": "3xne9rZI9YRQ",
        "outputId": "72fafbf6-bf47-48d5-e343-cb0181d6635c"
      },
      "source": [
        "# Get image label\n",
        "print('The image label is: ', y_train[index])"
      ],
      "execution_count": 8,
      "outputs": [
        {
          "output_type": "stream",
          "text": [
            "The image label is:  [19]\n"
          ],
          "name": "stdout"
        }
      ]
    },
    {
      "cell_type": "code",
      "metadata": {
        "colab": {
          "base_uri": "https://localhost:8080/"
        },
        "id": "oVQXf2g99mes",
        "outputId": "78657783-820a-4d0c-ea7f-0b24e9e22bec"
      },
      "source": [
        "# Image classification defined by CIFAR\n",
        "classification = ['apple', 'aquarium_fish', 'baby', 'bear', 'beaver', 'bed', 'bee', 'beetle', 'bicycle', 'bottle', 'bowl', 'boy', 'bridge', 'bus', 'butterfly', 'camel', 'can', 'castle', 'caterpillar', 'cattle', 'chair', 'chimpanzee', 'clock', 'cloud', 'cockroach', 'couch', 'crab', 'crocodile', 'cup', 'dinosaur', 'dolphin', 'elephant', 'flatfish', 'forest', 'fox', 'girl', 'hamster', 'house', 'kangaroo', 'keyboard', 'lamp', 'lawn_mower', 'leopard', 'lion', 'lizard', 'lobster', 'man', 'maple_tree', 'motorcycle', 'mountain', 'mouse', 'mushroom', 'oak_tree', 'orange', 'orchid', 'otter', 'palm_tree', 'pear', 'pickup_truck', 'pine_tree', 'plain', 'plate', 'poppy', 'porcupine', 'possum', 'rabbit', 'raccoon', 'ray', 'road', 'rocket', 'rose', 'sea', 'seal', 'shark', 'shrew', 'skunk', 'skyscraper', 'snail', 'snake', 'spider', 'squirrel', 'streetcar', 'sunflower', 'sweet_pepper', 'table', 'tank', 'telephone', 'television', 'tiger', 'tractor', 'train', 'trout', 'tulip', 'turtle', 'wardrobe', 'whale', 'willow_tree', 'wolf', 'woman', 'worm']\n",
        "\n",
        "# Print Image Class\n",
        "print('The image class is : ', classification[y_train[index][0]])"
      ],
      "execution_count": 9,
      "outputs": [
        {
          "output_type": "stream",
          "text": [
            "The image class is :  cattle\n"
          ],
          "name": "stdout"
        }
      ]
    },
    {
      "cell_type": "code",
      "metadata": {
        "id": "ABAiyJOX-bAC"
      },
      "source": [
        "# Convert the labels into a set of 10 numbers to input into the neural network\n",
        "y_train_one_hot = to_categorical(y_train)\n",
        "y_test_one_hot = to_categorical(y_test)"
      ],
      "execution_count": 10,
      "outputs": []
    },
    {
      "cell_type": "code",
      "metadata": {
        "colab": {
          "base_uri": "https://localhost:8080/"
        },
        "id": "l58X9GnCEjZh",
        "outputId": "7303bafd-5646-4319-962d-8dbbfc1fe18a"
      },
      "source": [
        "# Print the new labels\n",
        "print(y_train_one_hot)\n",
        "print(y_test_one_hot)"
      ],
      "execution_count": 11,
      "outputs": [
        {
          "output_type": "stream",
          "text": [
            "[[0. 0. 0. ... 0. 0. 0.]\n",
            " [0. 0. 0. ... 0. 0. 0.]\n",
            " [1. 0. 0. ... 0. 0. 0.]\n",
            " ...\n",
            " [0. 0. 0. ... 0. 0. 0.]\n",
            " [0. 0. 0. ... 0. 0. 0.]\n",
            " [0. 0. 0. ... 0. 0. 0.]]\n",
            "[[0. 0. 0. ... 0. 0. 0.]\n",
            " [0. 0. 0. ... 0. 0. 0.]\n",
            " [0. 0. 0. ... 0. 0. 0.]\n",
            " ...\n",
            " [0. 0. 0. ... 0. 0. 0.]\n",
            " [0. 0. 0. ... 0. 0. 0.]\n",
            " [0. 0. 0. ... 0. 0. 0.]]\n"
          ],
          "name": "stdout"
        }
      ]
    },
    {
      "cell_type": "code",
      "metadata": {
        "colab": {
          "base_uri": "https://localhost:8080/"
        },
        "id": "YU-KZFdyEql4",
        "outputId": "06f86f40-9633-45a1-f200-6a837ad4c40a"
      },
      "source": [
        "# Print the new label of the image/ picture above\n",
        "print('The one hot label is: ', y_train_one_hot[index])"
      ],
      "execution_count": 12,
      "outputs": [
        {
          "output_type": "stream",
          "text": [
            "The one hot label is:  [0. 0. 0. 0. 0. 0. 0. 0. 0. 0. 0. 0. 0. 0. 0. 0. 0. 0. 0. 1. 0. 0. 0. 0.\n",
            " 0. 0. 0. 0. 0. 0. 0. 0. 0. 0. 0. 0. 0. 0. 0. 0. 0. 0. 0. 0. 0. 0. 0. 0.\n",
            " 0. 0. 0. 0. 0. 0. 0. 0. 0. 0. 0. 0. 0. 0. 0. 0. 0. 0. 0. 0. 0. 0. 0. 0.\n",
            " 0. 0. 0. 0. 0. 0. 0. 0. 0. 0. 0. 0. 0. 0. 0. 0. 0. 0. 0. 0. 0. 0. 0. 0.\n",
            " 0. 0. 0. 0.]\n"
          ],
          "name": "stdout"
        }
      ]
    },
    {
      "cell_type": "code",
      "metadata": {
        "id": "GgqDvWGAE9c5"
      },
      "source": [
        "# Normalize pixels to values between 0 and 1\n",
        "x_train = x_train/255\n",
        "x_test = x_test/255"
      ],
      "execution_count": 13,
      "outputs": []
    },
    {
      "cell_type": "code",
      "metadata": {
        "id": "1C2ARKYWFQpH"
      },
      "source": [
        "# Create the models architecture\n",
        "model = Sequential()\n",
        "\n",
        "# Add the first layer\n",
        "model.add(Conv2D(32, (5,5), activation='relu', input_shape = (32,32,3)))\n",
        "\n",
        "# Add a pooling layer\n",
        "model.add(MaxPooling2D(pool_size = (2,2)))\n",
        "\n",
        "# Add another convolution layer\n",
        "model.add(MaxPooling2D(pool_size = (2,2)))\n",
        "\n",
        "# Add a flattening layer\n",
        "model.add(Flatten())\n",
        "\n",
        "# Add a layer with 1000 neurons\n",
        "model.add(Dense(1000, activation = 'relu'))\n",
        "\n",
        "# Add a dropout layer\n",
        "model.add(Dropout(0.5))\n",
        "\n",
        "# Add a layer with 500 neurons\n",
        "model.add(Dense(500, activation = 'relu'))\n",
        "\n",
        "# Add a dropout layer\n",
        "model.add(Dropout(0.5))\n",
        "\n",
        "# Add a layer with 100 neurons\n",
        "model.add(Dense(100, activation = 'softmax'))"
      ],
      "execution_count": 14,
      "outputs": []
    },
    {
      "cell_type": "code",
      "metadata": {
        "id": "l3D_6xjLHF2v"
      },
      "source": [
        "# Compile the model\n",
        "model.compile(loss = 'categorical_crossentropy', optimizer = 'adam', metrics = ['accuracy'])"
      ],
      "execution_count": 15,
      "outputs": []
    },
    {
      "cell_type": "code",
      "metadata": {
        "colab": {
          "base_uri": "https://localhost:8080/"
        },
        "id": "AhHiKJ8hHUiR",
        "outputId": "72265790-a33a-4b71-96ab-c6bd2dccad39"
      },
      "source": [
        "# Train the model\n",
        "hist = model.fit(x_train, y_train_one_hot, batch_size=250, epochs=20, validation_split=0.2)"
      ],
      "execution_count": 16,
      "outputs": [
        {
          "output_type": "stream",
          "text": [
            "Epoch 1/20\n",
            "160/160 [==============================] - 39s 240ms/step - loss: 4.4556 - accuracy: 0.0289 - val_loss: 3.6956 - val_accuracy: 0.1404\n",
            "Epoch 2/20\n",
            "160/160 [==============================] - 38s 236ms/step - loss: 3.6988 - accuracy: 0.1278 - val_loss: 3.2703 - val_accuracy: 0.2179\n",
            "Epoch 3/20\n",
            "160/160 [==============================] - 38s 239ms/step - loss: 3.3523 - accuracy: 0.1940 - val_loss: 3.0659 - val_accuracy: 0.2551\n",
            "Epoch 4/20\n",
            "160/160 [==============================] - 38s 241ms/step - loss: 3.1293 - accuracy: 0.2286 - val_loss: 2.8953 - val_accuracy: 0.2882\n",
            "Epoch 5/20\n",
            "160/160 [==============================] - 39s 241ms/step - loss: 2.9577 - accuracy: 0.2598 - val_loss: 2.7754 - val_accuracy: 0.3168\n",
            "Epoch 6/20\n",
            "160/160 [==============================] - 38s 237ms/step - loss: 2.8137 - accuracy: 0.2921 - val_loss: 2.7375 - val_accuracy: 0.3160\n",
            "Epoch 7/20\n",
            "160/160 [==============================] - 38s 239ms/step - loss: 2.7007 - accuracy: 0.3135 - val_loss: 2.6137 - val_accuracy: 0.3451\n",
            "Epoch 8/20\n",
            "160/160 [==============================] - 38s 239ms/step - loss: 2.6210 - accuracy: 0.3308 - val_loss: 2.6007 - val_accuracy: 0.3478\n",
            "Epoch 9/20\n",
            "160/160 [==============================] - 39s 244ms/step - loss: 2.5401 - accuracy: 0.3407 - val_loss: 2.5242 - val_accuracy: 0.3615\n",
            "Epoch 10/20\n",
            "160/160 [==============================] - 40s 249ms/step - loss: 2.4603 - accuracy: 0.3605 - val_loss: 2.5189 - val_accuracy: 0.3645\n",
            "Epoch 11/20\n",
            "160/160 [==============================] - 39s 241ms/step - loss: 2.3792 - accuracy: 0.3749 - val_loss: 2.4699 - val_accuracy: 0.3747\n",
            "Epoch 12/20\n",
            "160/160 [==============================] - 38s 239ms/step - loss: 2.2920 - accuracy: 0.3949 - val_loss: 2.4777 - val_accuracy: 0.3756\n",
            "Epoch 13/20\n",
            "160/160 [==============================] - 38s 239ms/step - loss: 2.2510 - accuracy: 0.4020 - val_loss: 2.4280 - val_accuracy: 0.3852\n",
            "Epoch 14/20\n",
            "160/160 [==============================] - 38s 236ms/step - loss: 2.1919 - accuracy: 0.4136 - val_loss: 2.4054 - val_accuracy: 0.3935\n",
            "Epoch 15/20\n",
            "160/160 [==============================] - 38s 235ms/step - loss: 2.1344 - accuracy: 0.4255 - val_loss: 2.3843 - val_accuracy: 0.3954\n",
            "Epoch 16/20\n",
            "160/160 [==============================] - 38s 238ms/step - loss: 2.0817 - accuracy: 0.4358 - val_loss: 2.3859 - val_accuracy: 0.3944\n",
            "Epoch 17/20\n",
            "160/160 [==============================] - 39s 243ms/step - loss: 2.0541 - accuracy: 0.4431 - val_loss: 2.3555 - val_accuracy: 0.4024\n",
            "Epoch 18/20\n",
            "160/160 [==============================] - 39s 241ms/step - loss: 1.9820 - accuracy: 0.4581 - val_loss: 2.3743 - val_accuracy: 0.4021\n",
            "Epoch 19/20\n",
            "160/160 [==============================] - 38s 238ms/step - loss: 1.9542 - accuracy: 0.4657 - val_loss: 2.3629 - val_accuracy: 0.3996\n",
            "Epoch 20/20\n",
            "160/160 [==============================] - 40s 249ms/step - loss: 1.8954 - accuracy: 0.4761 - val_loss: 2.3511 - val_accuracy: 0.4063\n"
          ],
          "name": "stdout"
        }
      ]
    },
    {
      "cell_type": "code",
      "metadata": {
        "id": "7eq1f7MZHwhJ",
        "colab": {
          "base_uri": "https://localhost:8080/"
        },
        "outputId": "35a682d8-fdb4-4763-dcb6-59f0847b1f6e"
      },
      "source": [
        "# Evaluate the model using the test data set\n",
        "model.evaluate(x_test, y_test_one_hot)[1]"
      ],
      "execution_count": 17,
      "outputs": [
        {
          "output_type": "stream",
          "text": [
            "313/313 [==============================] - 4s 13ms/step - loss: 2.3298 - accuracy: 0.4028\n"
          ],
          "name": "stdout"
        },
        {
          "output_type": "execute_result",
          "data": {
            "text/plain": [
              "0.4027999937534332"
            ]
          },
          "metadata": {
            "tags": []
          },
          "execution_count": 17
        }
      ]
    },
    {
      "cell_type": "code",
      "metadata": {
        "id": "ugBUSvfSIpJ3",
        "colab": {
          "base_uri": "https://localhost:8080/",
          "height": 325
        },
        "outputId": "37785d94-08e6-4f9e-e30d-ff9410cc863d"
      },
      "source": [
        "# Visualize the model's accuracy\n",
        "plt.plot(hist.history['accuracy'])\n",
        "plt.plot(hist.history['val_accuracy'])\n",
        "plt.title('Model Accuracy')\n",
        "plt.ylabel('Accuracy')\n",
        "plt.xlabel('Epoch')\n",
        "plt.legend(['Train', 'Val'], loc = 'upper left')\n",
        "plt.show()"
      ],
      "execution_count": 18,
      "outputs": [
        {
          "output_type": "display_data",
          "data": {
            "image/png": "[encoded data removed]",
            "text/plain": [
              "<Figure size 432x288 with 1 Axes>"
            ]
          },
          "metadata": {
            "tags": []
          }
        }
      ]
    },
    {
      "cell_type": "code",
      "metadata": {
        "id": "C1Id2WnjJkxi",
        "colab": {
          "base_uri": "https://localhost:8080/",
          "height": 325
        },
        "outputId": "2769d0dd-8bfb-439f-fef7-fa91aea13b19"
      },
      "source": [
        "# Visualize the model loss\n",
        "plt.plot(hist.history['loss'])\n",
        "plt.plot(hist.history['val_loss'])\n",
        "plt.title('Model Loss')\n",
        "plt.ylabel('Loss')\n",
        "plt.xlabel('Epoch')\n",
        "plt.legend(['Train', 'Val'], loc = 'upper right')\n",
        "plt.show()"
      ],
      "execution_count": 19,
      "outputs": [
        {
          "output_type": "display_data",
          "data": {
            "image/png": "[encoded data removed]",
            "text/plain": [
              "<Figure size 432x288 with 1 Axes>"
            ]
          },
          "metadata": {
            "tags": []
          }
        }
      ]
    },
    {
      "cell_type": "code",
      "metadata": {
        "id": "6D0O-q5cKf44"
      },
      "source": [
        "# Resize the image\n",
        "new_image = plt.imread(\"sample_data/lion.jpg\")\n",
        "from skimage.transform import resize\n",
        "resized_image = resize(new_image, (32, 32, 3))"
      ],
      "execution_count": 20,
      "outputs": []
    },
    {
      "cell_type": "code",
      "metadata": {
        "id": "d5w40mZIKNlO",
        "colab": {
          "base_uri": "https://localhost:8080/",
          "height": 284
        },
        "outputId": "80d4eaf8-6e0c-4366-ba68-df5884e30121"
      },
      "source": [
        "# Show the images\n",
        "img = plt.imshow(new_image)\n",
        "img = plt.imshow(resized_image)"
      ],
      "execution_count": 21,
      "outputs": [
        {
          "output_type": "display_data",
          "data": {
            "image/png": "[encoded data removed]",
            "text/plain": [
              "<Figure size 432x288 with 1 Axes>"
            ]
          },
          "metadata": {
            "tags": []
          }
        }
      ]
    },
    {
      "cell_type": "code",
      "metadata": {
        "id": "0BHizF4QK18M",
        "colab": {
          "base_uri": "https://localhost:8080/"
        },
        "outputId": "18085fda-27d0-4267-8f4b-692d46992ee5"
      },
      "source": [
        "# Get the model's prediction\n",
        "predictions = model.predict(np.array([resized_image]))\n",
        "# Show prediction\n",
        "print(predictions)"
      ],
      "execution_count": 22,
      "outputs": [
        {
          "output_type": "stream",
          "text": [
            "[[1.01801263e-04 4.57997579e-04 2.19071796e-03 7.98939436e-04\n",
            "  5.55838269e-05 3.69392546e-06 5.81489985e-05 1.82393978e-05\n",
            "  2.55195209e-06 1.01911800e-03 1.39932835e-03 1.84290635e-03\n",
            "  4.27250484e-08 5.09125471e-07 5.80904707e-05 6.48557325e-04\n",
            "  3.33715021e-03 1.03631599e-07 1.37252850e-04 9.64867722e-05\n",
            "  7.47711795e-07 4.98009558e-06 3.11436690e-03 2.97749523e-07\n",
            "  6.72076703e-06 8.32064325e-06 1.28626634e-04 7.88302373e-07\n",
            "  1.12273861e-02 7.25368154e-05 2.95955829e-07 1.19437072e-06\n",
            "  5.10460013e-05 3.01559139e-05 2.78321858e-02 2.00717873e-03\n",
            "  6.56333342e-02 6.18035529e-07 5.70836091e-05 1.48445270e-05\n",
            "  2.32262863e-03 1.10029328e-06 4.19310946e-03 7.84710348e-01\n",
            "  4.63055439e-05 3.97915574e-04 2.30343523e-03 3.67450448e-05\n",
            "  3.59423638e-08 1.06240359e-08 1.54519652e-03 1.25885685e-03\n",
            "  9.60067137e-09 2.43385485e-03 3.93998780e-05 3.59426922e-05\n",
            "  1.54182180e-06 4.93247760e-03 6.95077773e-10 1.31588683e-06\n",
            "  3.21884142e-09 3.61864950e-04 4.09910426e-05 2.10422240e-05\n",
            "  1.05577994e-04 1.14724122e-03 1.10880183e-05 3.62761057e-05\n",
            "  1.01628050e-09 1.29415469e-06 6.17212150e-04 4.98401569e-08\n",
            "  1.26039929e-04 2.53700307e-07 1.42578756e-06 1.92918055e-08\n",
            "  5.22492746e-06 4.09646047e-04 4.22778219e-04 8.41609508e-05\n",
            "  5.02279960e-03 5.42739144e-07 3.50512310e-05 1.64560231e-04\n",
            "  7.12618858e-05 4.55293314e-09 4.35916096e-04 1.40054917e-05\n",
            "  5.23054153e-02 1.21374399e-06 3.18350487e-07 7.40640360e-07\n",
            "  1.24511844e-03 3.21177686e-05 4.97329468e-03 1.73517734e-08\n",
            "  1.81733223e-04 8.77343191e-05 5.03624650e-03 3.19586426e-04]]\n"
          ],
          "name": "stdout"
        }
      ]
    },
    {
      "cell_type": "code",
      "metadata": {
        "id": "oRxp4Vx7LEm8",
        "colab": {
          "base_uri": "https://localhost:8080/"
        },
        "outputId": "d5e73640-b853-46cf-c668-34912ac569a7"
      },
      "source": [
        "# Sort the predictions in accending order\n",
        "list_index = np.arange(100).tolist()\n",
        "x = predictions\n",
        "\n",
        "for i in range(100):\n",
        "  for j in range(100):\n",
        "    if x[0][list_index[i]] > x[0][list_index[j]]:\n",
        "      temp = list_index[i]\n",
        "      list_index[i] = list_index[j]\n",
        "      list_index[j] = temp\n",
        "\n",
        "# Show the sorted labels in order\n",
        "print(list_index)"
      ],
      "execution_count": 23,
      "outputs": [
        {
          "output_type": "stream",
          "text": [
            "[43, 36, 88, 34, 28, 98, 80, 94, 57, 42, 16, 22, 53, 40, 46, 2, 35, 11, 50, 10, 51, 92, 65, 9, 3, 15, 70, 1, 86, 78, 77, 45, 61, 99, 96, 83, 18, 26, 72, 64, 0, 19, 97, 79, 29, 84, 6, 14, 38, 4, 32, 44, 62, 54, 47, 67, 55, 82, 93, 33, 63, 7, 39, 87, 66, 25, 24, 76, 21, 5, 8, 56, 74, 59, 69, 89, 31, 41, 27, 20, 91, 37, 81, 13, 90, 23, 30, 73, 17, 71, 12, 48, 75, 95, 49, 52, 85, 60, 68, 58]\n"
          ],
          "name": "stdout"
        }
      ]
    },
    {
      "cell_type": "code",
      "metadata": {
        "id": "ZClSFgm5dYFs",
        "colab": {
          "base_uri": "https://localhost:8080/"
        },
        "outputId": "d34fedd2-7158-42b1-d6d0-b9679ba01570"
      },
      "source": [
        "# Print the first 5 predictions\n",
        "print('Classification :')\n",
        "for i in range(5):\n",
        "  print(classification[list_index[i]], ':', round(predictions[0][list_index[i]] * 100, 2), '%')"
      ],
      "execution_count": 24,
      "outputs": [
        {
          "output_type": "stream",
          "text": [
            "Classification :\n",
            "lion : 78.47 %\n",
            "hamster : 6.56 %\n",
            "tiger : 5.23 %\n",
            "fox : 2.78 %\n",
            "cup : 1.12 %\n"
          ],
          "name": "stdout"
        }
      ]
    }
  ]
}